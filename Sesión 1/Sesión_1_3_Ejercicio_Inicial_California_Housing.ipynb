{
  "cells": [
    {
      "cell_type": "markdown",
      "metadata": {
        "id": "CRlquxYsK0K_"
      },
      "source": [
        "# Ejercicio: Regresión Lineal Simple con el Dataset California Housing\n",
        "\n",
        "## Instrucciones\n",
        "Este cuaderno inicia un ejercicio práctico de **regresión lineal simple** usando el dataset **California Housing** de Scikit-learn, que contiene datos de precios de viviendas en California (20,640 muestras, 8 features). Para mantenerlo simple, usaremos solo la feature **MedInc** (ingreso mediano, en decenas de miles de USD) para predecir el **precio mediano de la vivienda** (en cientos de miles de USD).\n",
        "\n",
        "**Tarea**: Completar los pasos restantes (exploración, visualización, división de datos, modelado, predicciones, evaluación y visualización) siguiendo la **receta** de los ejercicios anteriores. Usa la ecuación de regresión lineal:\n",
        "\\[ y = \\beta_0 + \\beta_1 x + \\epsilon \\]\n",
        "\n",
        "- **x**: MedInc (ingreso mediano).\n",
        "- **y**: MedHouseVal (precio mediano de vivienda).\n",
        "\n",
        "**Objetivo**: Obtener un R² aproximado de 0.6 y comparar con el ejercicio de Diabetes.\n",
        "\n",
        "**Pasos sugeridos** (basados en la receta):\n",
        "1. Explorar el dataset con un DataFrame.\n",
        "2. Visualizar la relación x-y (scatter plot).\n",
        "3. Dividir datos en train/test.\n",
        "4. Crear y entrenar el modelo.\n",
        "5. Hacer predicciones.\n",
        "6. Evaluar con R².\n",
        "7. Visualizar la línea de regresión.\n",
        "8. Probar otra feature (e.g., AveRooms, índice 5) y comparar.\n",
        "\n",
        "¡Usa los ejercicios anteriores como guía y completa el código!\n",
        "\n",
        "## Glosario\n",
        "| Término | Definición |\n",
        "|---------|------------|\n",
        "| **MedInc** | Ingreso mediano del bloque (x, en decenas de miles de USD). |\n",
        "| **MedHouseVal** | Precio mediano de vivienda (y, en cientos de miles de USD). |\n",
        "| **Regresión Lineal Simple** | Predice y con una sola x. |\n",
        "| **R²** | Métrica de ajuste (0-1). |\n",
        "| **OLS** | Mínimos cuadrados ordinarios. |"
      ]
    },
    {
      "cell_type": "markdown",
      "metadata": {
        "id": "Z660l1caK0K_"
      },
      "source": [
        "## Paso 1: Importar Librerías\n",
        "**Explicación**: Importamos las herramientas necesarias para el análisis y modelado."
      ]
    },
    {
      "cell_type": "code",
      "execution_count": null,
      "metadata": {
        "id": "020hOfDyK0LA"
      },
      "outputs": [],
      "source": [
        "# Librerías para datos, modelado y visualización.\n",
        "# fetch_california_housing: Carga el dataset (descarga si es la primera vez).\n",
        "\n",
        "import numpy as np\n",
        "import pandas as pd\n",
        "from sklearn.datasets import fetch_california_housing\n",
        "from sklearn.model_selection import train_test_split\n",
        "from sklearn.linear_model import LinearRegression\n",
        "from sklearn.metrics import r2_score\n",
        "import matplotlib.pyplot as plt\n",
        "import seaborn as sns\n",
        "%matplotlib inline"
      ]
    },
    {
      "cell_type": "markdown",
      "metadata": {
        "id": "PmrVzo2VK0LA"
      },
      "source": [
        "## Paso 2: Cargar el Dataset\n",
        "**Explicación**: Cargamos el dataset y seleccionamos MedInc (índice 0) como feature."
      ]
    },
    {
      "cell_type": "code",
      "execution_count": null,
      "metadata": {
        "id": "62J9tAr1K0LA"
      },
      "outputs": [],
      "source": [
        "# Carga el dataset California Housing.\n",
        "# X: Feature MedInc (índice 0), en formato 2D.\n",
        "# y: Target (precio mediano de vivienda).\n",
        "\n",
        "housing = fetch_california_housing()\n",
        "X = housing.data[:, np.newaxis, 0]  # MedInc\n",
        "y = housing.target  # MedHouseVal\n",
        "\n",
        "# Nota: feature_names[0] = 'MedInc'. Usa esto para nombrar columnas.\n",
        "# Completa los pasos restantes siguiendo la receta."
      ]
    },
    {
      "cell_type": "markdown",
      "metadata": {
        "id": "eI7pE17kK0LA"
      },
      "source": [
        "## Tarea para los Estudiantes\n",
        "1. Crea un DataFrame y explora los datos (`head`, `describe`).\n",
        "2. Visualiza la relación entre MedInc y MedHouseVal (scatter plot).\n",
        "3. Divide los datos en train/test (80/20).\n",
        "4. Entrena un modelo de regresión lineal.\n",
        "5. Haz predicciones y calcula R².\n",
        "6. Grafica la línea de regresión.\n",
        "7. **Extra**: Prueba con otra feature (e.g., AveRooms, índice 5) y compara R².\n",
        "\n",
        "**Descarga**: File > Download > .ipynb.\n",
        "\n",
        "¡Sigue la receta y completa el ejercicio! 😊"
      ]
    }
  ],
  "metadata": {
    "kernelspec": {
      "display_name": "Python 3",
      "language": "python",
      "name": "python3"
    },
    "language_info": {
      "codemirror_mode": {
        "name": "ipython",
        "version": 3
      },
      "file_extension": ".py",
      "mimetype": "text/x-python",
      "name": "python",
      "nbconvert_exporter": "python",
      "pygments_lexer": "ipython3",
      "version": "3.8.5"
    },
    "colab": {
      "provenance": []
    }
  },
  "nbformat": 4,
  "nbformat_minor": 0
}