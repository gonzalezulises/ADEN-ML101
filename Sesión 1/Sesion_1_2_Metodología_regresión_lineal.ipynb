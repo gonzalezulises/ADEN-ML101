{
  "cells": [
    {
      "cell_type": "markdown",
      "metadata": {
        "id": "O66GMUciJWcU"
      },
      "source": [
        "# Receta para Implementar Regresión Lineal Simple con Scikit-learn\n",
        "\n",
        "¡Bienvenido! Esta guía te permitirá implementar un modelo de **regresión lineal simple** en cualquier dataset con una variable predictora numérica (x) y una variable objetivo continua (y), usando **Scikit-learn**. Los pasos son genéricos para que puedas replicarlos en ejercicios similares, con explicaciones detalladas línea por línea.\n",
        "\n",
        "## Introducción\n",
        "La **regresión lineal simple** es el modelo más básico de Machine Learning (ML) para predecir una variable continua (y) basada en una sola variable predictora (x). Se basa en la ecuación:\n",
        "\n",
        "\\[ y = \\beta_0 + \\beta_1 x + \\epsilon \\]\n",
        "\n",
        "- **\\(\\beta_0\\)**: Intercepto (valor de y cuando x = 0).\n",
        "- **\\(\\beta_1\\)**: Pendiente (cambio en y por unidad de x).\n",
        "- **\\(\\epsilon\\)**: Error aleatorio.\n",
        "\n",
        "El objetivo es encontrar \\(\\beta_0\\) y \\(\\beta_1\\) que minimicen el error usando **mínimos cuadrados ordinarios (OLS)**. Esta receta es ideal para principiantes, ya que es intuitiva, interpretable y sirve como base para modelos más complejos.\n",
        "\n",
        "## Ingredientes\n",
        "- **Dataset**: Un conjunto de datos con una variable predictora numérica (x) y un target continuo (y).\n",
        "  - Ejemplo: `load_diabetes` (x: bmi, y: progresión de diabetes).\n",
        "  - Alternativas: `fetch_california_housing` (x: ingreso medio, y: precio de casa), CSV propio (e.g., horas de estudio vs. nota), o datos sintéticos con `make_regression`.\n",
        "- **Librerías**:\n",
        "  - `numpy`: Para arrays numéricos.\n",
        "  - `pandas`: Para datos tabulares.\n",
        "  - `scikit-learn`: Para modelo, división de datos, métricas, y datasets.\n",
        "  - `matplotlib` y `seaborn`: Para visualizaciones.\n",
        "- **Entorno**: Google Colab o Jupyter Notebook.\n",
        "- **Conocimientos**: Python básico (variables, funciones) y nociones de estadística (media, correlación).\n",
        "\n",
        "## Glosario\n",
        "| Término | Definición |\n",
        "|---------|------------|\n",
        "| **Regresión Lineal Simple** | Modelo que predice y usando x con la ecuación \\( y = \\beta_0 + \\beta_1 x + \\epsilon \\). |\n",
        "| **Variable Independiente (x)** | Variable predictora (input, e.g., edad). |\n",
        "| **Variable Dependiente (y)** | Variable a predecir (output, e.g., salario). |\n",
        "| **Intercepto (\\(\\beta_0\\))** | Valor de y cuando x = 0. |\n",
        "| **Pendiente (\\(\\beta_1\\))** | Cambio en y por cada unidad de x. |\n",
        "| **Mínimos Cuadrados (OLS)** | Método que minimiza la suma de los errores al cuadrado. |\n",
        "| **R²** | Métrica (0-1) que mide qué tan bien el modelo explica la variabilidad de y. |\n",
        "| **Train/Test Split** | División de datos en entrenamiento (train) y prueba (test) para evaluar generalización. |\n",
        "| **Scikit-learn** | Biblioteca de Python para ML. |\n",
        "\n",
        "## Puntos de Aprendizaje Clave\n",
        "Al finalizar, podrás:\n",
        "1. Cargar y preparar cualquier dataset para regresión.\n",
        "2. Visualizar la relación x-y para confirmar linealidad.\n",
        "3. Dividir datos en entrenamiento y prueba.\n",
        "4. Entrenar y evaluar un modelo de regresión lineal.\n",
        "5. Interpretar coeficientes (\\(\\beta_0\\), \\(\\beta_1\\)) y métricas (R²).\n",
        "6. Visualizar el ajuste del modelo.\n",
        "7. Adaptar el proceso a nuevos datasets.\n",
        "\n",
        "**Nota**: La regresión lineal asume una relación lineal, errores independientes, y homocedasticidad. Si no se cumplen, considera transformar datos o usar modelos no lineales."
      ]
    },
    {
      "cell_type": "markdown",
      "metadata": {
        "id": "HCOydqFOJWcV"
      },
      "source": [
        "## Paso a Paso\n",
        "\n",
        "### Paso 1: Configurar el Entorno\n",
        "**Qué hacer**: Importa las librerías necesarias.\n",
        "**Por qué**: Estas herramientas permiten manejar datos, modelar, y visualizar resultados.\n",
        "**Cómo**: Ejecuta las importaciones y configura gráficos."
      ]
    },
    {
      "cell_type": "code",
      "execution_count": null,
      "metadata": {
        "id": "0cEV_PBAJWcV"
      },
      "outputs": [],
      "source": [
        "# Importamos librerías para ML y visualización.\n",
        "# numpy: Para arrays numéricos.\n",
        "# pandas: Para datos tabulares (DataFrames).\n",
        "# load_diabetes: Ejemplo de dataset (puedes cambiarlo).\n",
        "# train_test_split: Divide datos en train/test.\n",
        "# LinearRegression: Modelo de regresión lineal.\n",
        "# r2_score: Métrica para evaluar el modelo.\n",
        "# matplotlib/seaborn: Para gráficos.\n",
        "# %matplotlib inline: Muestra gráficos en el cuaderno.\n",
        "\n",
        "import numpy as np\n",
        "import pandas as pd\n",
        "from sklearn.datasets import load_diabetes  # Cambia por otro dataset si deseas\n",
        "from sklearn.model_selection import train_test_split\n",
        "from sklearn.linear_model import LinearRegression\n",
        "from sklearn.metrics import r2_score\n",
        "import matplotlib.pyplot as plt\n",
        "import seaborn as sns\n",
        "%matplotlib inline"
      ]
    },
    {
      "cell_type": "markdown",
      "metadata": {
        "id": "T_sAjwqzJWcW"
      },
      "source": [
        "### Paso 2: Cargar y Explorar el Dataset\n",
        "**Qué hacer**: Carga el dataset y selecciona x (feature) e y (target).\n",
        "**Por qué**: Necesitamos entender los datos y confirmar que son numéricos y aptos para regresión lineal.\n",
        "**Cómo**: Usa un dataset de sklearn, CSV propio, o datos sintéticos."
      ]
    },
    {
      "cell_type": "code",
      "execution_count": null,
      "metadata": {
        "id": "Bz2h6AAaJWcW"
      },
      "outputs": [],
      "source": [
        "# Ejemplo con dataset de sklearn (load_diabetes).\n",
        "# Alternativas: fetch_california_housing, pd.read_csv('ruta.csv'), o make_regression.\n",
        "# Seleccionamos una feature (bmi, índice 2) y el target.\n",
        "# X debe ser 2D (n_samples, 1), y es 1D (n_samples,).\n",
        "# Creamos un DataFrame para inspección.\n",
        "\n",
        "diabetes = load_diabetes()  # Cambia por tu dataset\n",
        "X = diabetes.data[:, np.newaxis, 2]  # Selecciona una feature (bmi)\n",
        "y = diabetes.target  # Target continuo\n",
        "df = pd.DataFrame(X, columns=[\"x\"])  # Cambia 'x' por el nombre de tu feature\n",
        "df[\"y\"] = y  # Cambia 'y' por el nombre de tu target\n",
        "print(\"Primeras 5 filas:\")\n",
        "print(df.head())\n",
        "print(\"\\nEstadísticas descriptivas:\")\n",
        "print(df.describe())\n",
        "print(\"\\nForma de X:\", X.shape)  # (n_samples, 1)\n",
        "print(\"Forma de y:\", y.shape)    # (n_samples,)\n",
        "\n",
        "# Para dataset propio:\n",
        "# df = pd.read_csv('ruta.csv')\n",
        "# X = df[['columna_x']].values\n",
        "# y = df['columna_y'].values"
      ]
    },
    {
      "cell_type": "markdown",
      "metadata": {
        "id": "_GC8cfLvJWcW"
      },
      "source": [
        "### Paso 3: Visualizar la Relación x-y\n",
        "**Qué hacer**: Crea un gráfico de dispersión.\n",
        "**Por qué**: Confirma si la relación entre x e y es aproximadamente lineal.\n",
        "**Cómo**: Usa seaborn o matplotlib."
      ]
    },
    {
      "cell_type": "code",
      "execution_count": null,
      "metadata": {
        "id": "-J_cXyFbJWcW"
      },
      "outputs": [],
      "source": [
        "# Gráfico de dispersión para ver la relación x-y.\n",
        "# Busca una tendencia lineal (ascendente/descendente).\n",
        "# Si no es lineal, considera transformar x (e.g., log(x)).\n",
        "\n",
        "plt.figure(figsize=(8,6))\n",
        "sns.scatterplot(x=\"x\", y=\"y\", data=df)  # Cambia 'x' y 'y' por nombres de columnas\n",
        "plt.xlabel(\"Variable Predictora (x)\")  # Cambia por nombre descriptivo\n",
        "plt.ylabel(\"Variable Objetivo (y)\")    # Cambia por nombre descriptivo\n",
        "plt.title(\"Relación entre x e y\")\n",
        "plt.show()"
      ]
    },
    {
      "cell_type": "markdown",
      "metadata": {
        "id": "wzSuGsRmJWcW"
      },
      "source": [
        "### Paso 4: Dividir los Datos\n",
        "**Qué hacer**: Divide en entrenamiento (train) y prueba (test).\n",
        "**Por qué**: Entrenamos en train y evaluamos en test para medir generalización.\n",
        "**Cómo**: Usa train_test_split."
      ]
    },
    {
      "cell_type": "code",
      "execution_count": null,
      "metadata": {
        "id": "KzA4zdySJWcW"
      },
      "outputs": [],
      "source": [
        "# Dividimos en 80% train, 20% test.\n",
        "# random_state asegura reproducibilidad.\n",
        "# Verificamos formas de los conjuntos.\n",
        "\n",
        "X_train, X_test, y_train, y_test = train_test_split(X, y, test_size=0.2, random_state=42)\n",
        "print(\"Forma X_train:\", X_train.shape)\n",
        "print(\"Forma X_test:\", X_test.shape)\n",
        "print(\"Forma y_train:\", y_train.shape)\n",
        "print(\"Forma y_test:\", y_test.shape)"
      ]
    },
    {
      "cell_type": "markdown",
      "metadata": {
        "id": "fG5UBvU5JWcW"
      },
      "source": [
        "### Paso 5: Crear y Entrenar el Modelo\n",
        "**Qué hacer**: Instancia y entrena el modelo.\n",
        "**Por qué**: Ajusta la línea \\( y = \\beta_0 + \\beta_1 x \\) a los datos.\n",
        "**Cómo**: Usa LinearRegression."
      ]
    },
    {
      "cell_type": "code",
      "execution_count": null,
      "metadata": {
        "id": "bLzGVxMyJWcX"
      },
      "outputs": [],
      "source": [
        "# Creamos y entrenamos el modelo.\n",
        "# Imprimimos coeficientes para interpretación.\n",
        "# β1: Cambio en y por unidad de x.\n",
        "# β0: Valor base de y cuando x = 0.\n",
        "\n",
        "model = LinearRegression()\n",
        "model.fit(X_train, y_train)\n",
        "print(\"Intercepto (β0):\", model.intercept_)\n",
        "print(\"Pendiente (β1):\", model.coef_[0])"
      ]
    },
    {
      "cell_type": "markdown",
      "metadata": {
        "id": "ydOKcv-4JWcX"
      },
      "source": [
        "### Paso 6: Hacer Predicciones\n",
        "**Qué hacer**: Predice en el conjunto de test.\n",
        "**Por qué**: Evalúa cómo generaliza el modelo.\n",
        "**Cómo**: Usa model.predict."
      ]
    },
    {
      "cell_type": "code",
      "execution_count": null,
      "metadata": {
        "id": "ME7DOBZVJWcX"
      },
      "outputs": [],
      "source": [
        "# Predecimos y comparamos con valores reales.\n",
        "\n",
        "y_pred = model.predict(X_test)\n",
        "print(\"Primeras 5 predicciones:\", y_pred[:5].round(2))\n",
        "print(\"Primeros 5 valores reales:\", y_test[:5])"
      ]
    },
    {
      "cell_type": "markdown",
      "metadata": {
        "id": "pBUSemLUJWcX"
      },
      "source": [
        "### Paso 7: Evaluar el Modelo\n",
        "**Qué hacer**: Calcula R².\n",
        "**Por qué**: Mide qué tan bien el modelo explica los datos (0-1).\n",
        "**Cómo**: Usa r2_score."
      ]
    },
    {
      "cell_type": "code",
      "execution_count": null,
      "metadata": {
        "id": "-HWKbtZyJWcX"
      },
      "outputs": [],
      "source": [
        "# Calculamos R².\n",
        "# R² > 0.7: Buen ajuste; < 0.3: Relación débil o falta de features.\n",
        "\n",
        "r2 = r2_score(y_test, y_pred)\n",
        "print(\"Coeficiente de Determinación (R²):\", round(r2, 4))"
      ]
    },
    {
      "cell_type": "markdown",
      "metadata": {
        "id": "rkospBV8JWcX"
      },
      "source": [
        "### Paso 8: Visualizar el Ajuste\n",
        "**Qué hacer**: Grafica datos de test y la línea de regresión.\n",
        "**Por qué**: Visualiza cuán bien la línea ajusta los puntos.\n",
        "**Cómo**: Usa scatter y plot."
      ]
    },
    {
      "cell_type": "code",
      "execution_count": null,
      "metadata": {
        "id": "ZSed8LmbJWcX"
      },
      "outputs": [],
      "source": [
        "# Graficamos puntos reales (azul) y línea predicha (rojo).\n",
        "\n",
        "plt.figure(figsize=(8,6))\n",
        "plt.scatter(X_test, y_test, color=\"blue\", label=\"Datos Reales\")\n",
        "plt.plot(X_test, y_pred, color=\"red\", label=\"Línea de Regresión\")\n",
        "plt.xlabel(\"Variable Predictora (x)\")  # Cambia por nombre descriptivo\n",
        "plt.ylabel(\"Variable Objetivo (y)\")    # Cambia por nombre descriptivo\n",
        "plt.title(\"Regresión Lineal Simple: Ajuste del Modelo\")\n",
        "plt.legend()\n",
        "plt.show()"
      ]
    },
    {
      "cell_type": "markdown",
      "metadata": {
        "id": "M2Nq_yDUJWcX"
      },
      "source": [
        "## Conclusión y Mejoras\n",
        "**Resultados**:\n",
        "- **Fortalezas**: Modelo simple e interpretable.\n",
        "- **Limitaciones**: Asume linealidad. Si R² es bajo, la relación puede no ser lineal o faltan features.\n",
        "- **Interpretación**: Revisa β1 (¿es positiva/negativa?), β0, y R².\n",
        "\n",
        "**Mejoras**:\n",
        "- Prueba otra feature del dataset.\n",
        "- Usa regresión múltiple para más features.\n",
        "- Transforma x o y (e.g., log(x)) si no es lineal.\n",
        "- Escala datos con StandardScaler si los rangos son muy diferentes.\n",
        "\n",
        "## Ejercicios para Practicar\n",
        "1. Cambia la feature x por otra del dataset. ¿Mejora R²?\n",
        "2. Ajusta test_size a 0.3. ¿Cómo afecta la evaluación?\n",
        "3. Usa otro dataset (e.g., fetch_california_housing) o genera datos con make_regression.\n",
        "4. Aplica StandardScaler antes de entrenar. ¿Cambia el modelo?\n",
        "\n",
        "## Notas\n",
        "- **Asunciones**: Relación lineal, errores independientes, homocedasticidad.\n",
        "- **Problemas**: Si X no es 2D, usa np.newaxis o .reshape(-1, 1).\n",
        "- **Descarga**: File > Download > .ipynb.\n",
        "\n",
        "¡Gracias por aprender! Adapta esta receta a tu dataset y experimenta. 😊"
      ]
    }
  ],
  "metadata": {
    "kernelspec": {
      "display_name": "Python 3",
      "language": "python",
      "name": "python3"
    },
    "language_info": {
      "codemirror_mode": {
        "name": "ipython",
        "version": 3
      },
      "file_extension": ".py",
      "mimetype": "text/x-python",
      "name": "python",
      "nbconvert_exporter": "python",
      "pygments_lexer": "ipython3",
      "version": "3.8.5"
    },
    "colab": {
      "provenance": []
    }
  },
  "nbformat": 4,
  "nbformat_minor": 0
}