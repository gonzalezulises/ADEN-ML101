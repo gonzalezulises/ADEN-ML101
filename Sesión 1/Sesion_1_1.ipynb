{
  "cells": [
    {
      "cell_type": "markdown",
      "metadata": {
        "id": "jPgaOgmuGlcR"
      },
      "source": [
        "# Introducción Detallada a la Regresión Lineal Simple para Enseñar Machine Learning\n",
        "\n",
        "## Bienvenido a este Cuaderno de Google Colab\n",
        "\n",
        "¡Hola! Este cuaderno está diseñado específicamente para **principiantes** en **Machine Learning (ML)** que desean aprender los fundamentos de la **regresión lineal simple** de manera **sumamente detallada**. Usaremos la biblioteca **Scikit-learn** (sklearn), una de las herramientas más populares y accesibles para implementar modelos de ML en Python.\n",
        "\n",
        "### ¿Qué es Machine Learning?\n",
        "Machine Learning es una rama de la inteligencia artificial que permite a las computadoras aprender patrones de datos sin ser programadas explícitamente para cada tarea. En lugar de reglas fijas, los algoritmos de ML \"aprenden\" de ejemplos (datos) para hacer predicciones o tomar decisiones. Hay tres tipos principales:\n",
        "- **Aprendizaje Supervisado**: Usamos datos etiquetados (con respuestas conocidas) para entrenar el modelo. La regresión lineal es un ejemplo clásico.\n",
        "- **Aprendizaje No Supervisado**: Datos sin etiquetas, para encontrar patrones ocultos.\n",
        "- **Aprendizaje por Refuerzo**: El modelo aprende mediante ensayo y error, recibiendo recompensas.\n",
        "\n",
        "En este cuaderno, nos enfocamos en **aprendizaje supervisado** con **regresión**, donde predecimos valores continuos (números reales, como precios o temperaturas).\n",
        "\n",
        "### ¿Qué es la Regresión Lineal Simple?\n",
        "La **regresión lineal simple** es el modelo más básico de ML para predecir una variable continua (llamada **variable dependiente** o **y**) basada en una sola variable predictora (llamada **variable independiente** o **x**). Se basa en la idea de que existe una **relación lineal** entre x e y, representada por la ecuación:\n",
        "\n",
        "\\[ y = \\beta_0 + \\beta_1 x + \\epsilon \\]\n",
        "\n",
        "- **\\(\\beta_0\\)**: Intercepto (valor de y cuando x=0).\n",
        "- **\\(\\beta_1\\)**: Pendiente (cuánto cambia y por cada unidad de cambio en x).\n",
        "- **\\(\\epsilon\\)**: Error aleatorio (ruido en los datos).\n",
        "\n",
        "El objetivo es encontrar los valores óptimos de \\(\\beta_0\\) y \\(\\beta_1\\) que minimicen el error de predicción, usando el método de **mínimos cuadrados ordinarios (OLS)**.\n",
        "\n",
        "### ¿Por Qué Empezar con Regresión Lineal Simple?\n",
        "- Es **intuitiva**: Visualízala como una línea recta que \"mejor ajusta\" los puntos de datos.\n",
        "- **Fácil de interpretar**: Los coeficientes \\(\\beta\\) te dicen directamente la relación (e.g., \"por cada año extra, el precio sube $5000\").\n",
        "- **Base para modelos avanzados**: Entenderla te prepara para regresión múltiple, redes neuronales, etc.\n",
        "- **Rápida y eficiente**: Ideal para datasets pequeños y prototipado.\n",
        "\n",
        "### Dataset Utilizado\n",
        "Usaremos el dataset **Diabetes** de Scikit-learn (`load_diabetes`). Este es un dataset real de la librería:\n",
        "- **Descripción**: Predice la progresión de la enfermedad diabetes en 442 pacientes. Usaremos solo **una feature** (bmi: Índice de Masa Corporal) para mantenerlo **simple** (regresión univariada).\n",
        "- **Variables**:\n",
        "  - x: bmi (una sola feature para simplicidad).\n",
        "  - y: Progresión de la diabetes (valor continuo de 25 a 346).\n",
        "- **Por qué este?**: Es nativo de sklearn, limpio y perfecto para ilustrar una relación lineal aproximada.\n",
        "\n",
        "### Estructura del Cuaderno\n",
        "1. **Glosario**: Definiciones clave.\n",
        "2. **Puntos de Aprendizaje Clave**: Lo que aprenderás.\n",
        "3. **Implementación Paso a Paso**: Código con explicaciones línea por línea.\n",
        "4. **Visualizaciones y Evaluación**: Para entender el modelo.\n",
        "5. **Ejercicios**: Para practicar.\n",
        "\n",
        "**Instrucciones**:\n",
        "- Ejecuta las celdas secuencialmente (Shift + Enter).\n",
        "- Si eres nuevo en Colab, ve a File > New Notebook y copia este contenido.\n",
        "\n",
        "¡Empecemos!\n",
        "\n",
        "## Glosario de Términos\n",
        "\n",
        "| Término | Definición |\n",
        "|---------|------------|\n",
        "| **Machine Learning (ML)** | Campo de la IA donde modelos aprenden de datos para predecir o clasificar. |\n",
        "| **Regresión** | Tipo de ML para predecir valores continuos (e.g., precio de una casa). |\n",
        "| **Variable Dependiente (y)** | La variable que queremos predecir (output). |\n",
        "| **Variable Independiente (x)** | La variable predictora (input). |\n",
        "| **Intercepto (\\(\\beta_0\\))** | Valor de y cuando x = 0. |\n",
        "| **Pendiente (\\(\\beta_1\\))** | Cambio en y por cada unidad de cambio en x. |\n",
        "| **Mínimos Cuadrados Ordinarios (OLS)** | Algoritmo que minimiza la suma de cuadrados de los errores residuales. |\n",
        "| **Dataset** | Conjunto de datos con features (columnas) y targets (etiquetas). |\n",
        "| **Feature** | Una columna de datos (e.g., bmi). |\n",
        "| **Train/Test Split** | División del dataset en entrenamiento (80%) y prueba (20%) para evaluar el modelo. |\n",
        "| **Coeficiente de Determinación (R²)** | Métrica que mide qué tan bien el modelo explica la variabilidad de y (0-1; 1 es perfecto). |\n",
        "| **Residual** | Diferencia entre el valor real y predicho (error). |\n",
        "| **Scikit-learn (sklearn)** | Biblioteca de Python para ML simple y eficiente. |\n",
        "| **Fit** | Entrenar el modelo con datos. |\n",
        "| **Predict** | Usar el modelo entrenado para hacer predicciones. |\n",
        "\n",
        "## Puntos de Aprendizaje Clave\n",
        "\n",
        "Al finalizar este cuaderno, podrás:\n",
        "1. **Entender los fundamentos**: Explicar la ecuación de la regresión lineal y su interpretación.\n",
        "2. **Cargar y explorar datos**: Usar sklearn para datasets built-in y visualizar relaciones.\n",
        "3. **Preparar datos**: Dividir en train/test para evitar sobreajuste (overfitting).\n",
        "4. **Implementar el modelo**: Usar `LinearRegression` de sklearn para fit y predict.\n",
        "5. **Evaluar**: Calcular R² y visualizar la línea de regresión.\n",
        "6. **Interpretar resultados**: Discutir limitaciones (e.g., asume linealidad) y extensiones (e.g., a múltiples features).\n",
        "7. **Buenas prácticas**: Comentar código, usar Markdown para explicaciones.\n",
        "\n",
        "**Consejo**: La regresión lineal asume linealidad, independencia de errores y homocedasticidad. Si no se cumplen, considera modelos no lineales."
      ]
    },
    {
      "cell_type": "markdown",
      "metadata": {
        "id": "7XvUxpqtGlcS"
      },
      "source": [
        "## Implementación Paso a Paso\n",
        "\n",
        "### Paso 1: Importar Librerías\n",
        "**Explicación**: Importamos las herramientas necesarias. Cada línea se explica en los comentarios."
      ]
    },
    {
      "cell_type": "code",
      "execution_count": 1,
      "metadata": {
        "id": "vw8r7aNWGlcT"
      },
      "outputs": [],
      "source": [
        "# Importamos las librerías esenciales para ML y visualización.\n",
        "# numpy: Para arrays numéricos eficientes (e.g., matrices de datos).\n",
        "# pandas: Para manejar datos en formato tabular (DataFrames).\n",
        "# load_diabetes: Cargamos el dataset Diabetes de sklearn.\n",
        "# train_test_split: Para dividir datos en train/test.\n",
        "# LinearRegression: El modelo de regresión lineal.\n",
        "# r2_score: Métrica R² para evaluar el modelo.\n",
        "# matplotlib.pyplot: Para graficar (visualizar la línea de regresión).\n",
        "# seaborn: Para estilos de gráficos más bonitos.\n",
        "# %matplotlib inline: Asegura que los gráficos se muestren en el cuaderno.\n",
        "\n",
        "import numpy as np\n",
        "import pandas as pd\n",
        "from sklearn.datasets import load_diabetes\n",
        "from sklearn.model_selection import train_test_split\n",
        "from sklearn.linear_model import LinearRegression\n",
        "from sklearn.metrics import r2_score\n",
        "import matplotlib.pyplot as plt\n",
        "import seaborn as sns\n",
        "%matplotlib inline"
      ]
    },
    {
      "cell_type": "markdown",
      "metadata": {
        "id": "nSbztDvrGlcT"
      },
      "source": [
        "### Paso 2: Cargar y Explorar el Dataset\n",
        "**Explicación**: Cargamos los datos y los inspeccionamos para entender su estructura."
      ]
    },
    {
      "cell_type": "code",
      "execution_count": 2,
      "metadata": {
        "colab": {
          "base_uri": "https://localhost:8080/"
        },
        "id": "jFdyMEzPGlcT",
        "outputId": "ca5fce3c-9078-4bf0-f18e-675750e00b90"
      },
      "outputs": [
        {
          "output_type": "stream",
          "name": "stdout",
          "text": [
            "Primeras 5 filas:\n",
            "        bmi  target\n",
            "0  0.061696   151.0\n",
            "1 -0.051474    75.0\n",
            "2  0.044451   141.0\n",
            "3 -0.011595   206.0\n",
            "4 -0.036385   135.0\n",
            "\n",
            "Estadísticas descriptivas:\n",
            "                bmi      target\n",
            "count  4.420000e+02  442.000000\n",
            "mean  -2.245564e-16  152.133484\n",
            "std    4.761905e-02   77.093005\n",
            "min   -9.027530e-02   25.000000\n",
            "25%   -3.422907e-02   87.000000\n",
            "50%   -7.283766e-03  140.500000\n",
            "75%    3.124802e-02  211.500000\n",
            "max    1.705552e-01  346.000000\n",
            "\n",
            "Forma de X: (442, 1)\n",
            "Forma de y: (442,)\n"
          ]
        }
      ],
      "source": [
        "# Carga el dataset como un objeto Bunch (similar a dict).\n",
        "# Extraemos solo la feature 'bmi' (índice 2) y la convertimos en 2D (sklearn requiere arrays 2D).\n",
        "# diabetes.data: Todas las features (10 en total).\n",
        "# [:, np.newaxis, 2]: Toma todas las filas, agrega dimensión, selecciona columna 2 (bmi).\n",
        "# y: El target (progresión de diabetes).\n",
        "# Creamos un DataFrame para fácil visualización.\n",
        "# Mostramos las primeras 5 filas y estadísticas descriptivas.\n",
        "\n",
        "diabetes = load_diabetes()\n",
        "X = diabetes.data[:, np.newaxis, 2]  # Solo BMI (índice 2)\n",
        "y = diabetes.target\n",
        "df = pd.DataFrame(X, columns=[\"bmi\"])\n",
        "df[\"target\"] = y\n",
        "print(\"Primeras 5 filas:\")\n",
        "print(df.head())\n",
        "print(\"\\nEstadísticas descriptivas:\")\n",
        "print(df.describe())\n",
        "print(\"\\nForma de X:\", X.shape)  # (442, 1)\n",
        "print(\"Forma de y:\", y.shape)    # (442,)"
      ]
    },
    {
      "cell_type": "markdown",
      "metadata": {
        "id": "6-qwsLAFGlcT"
      },
      "source": [
        "### Paso 3: Visualizar la Relación entre x e y\n",
        "**Explicación**: Graficamos para ver si hay una relación lineal aproximada."
      ]
    },
    {
      "cell_type": "code",
      "execution_count": null,
      "metadata": {
        "id": "R9XL5uO5GlcU"
      },
      "outputs": [],
      "source": [
        "# Crea una figura de tamaño 8x6 pulgadas.\n",
        "# Gráfico de dispersión con seaborn para ver la relación bmi-target.\n",
        "# Agregamos etiquetas y título.\n",
        "# Observación: Deberías ver puntos dispersos con una tendencia positiva leve (lineal aproximada).\n",
        "\n",
        "plt.figure(figsize=(8,6))\n",
        "sns.scatterplot(x=\"bmi\", y=\"target\", data=df)\n",
        "plt.xlabel(\"BMI (Índice de Masa Corporal)\")\n",
        "plt.ylabel(\"Progresión de Diabetes\")\n",
        "plt.title(\"Relación entre BMI y Progresión de Diabetes\")\n",
        "plt.show()"
      ]
    },
    {
      "cell_type": "markdown",
      "metadata": {
        "id": "C94nxNm_GlcU"
      },
      "source": [
        "### Paso 4: Dividir los Datos en Train y Test\n",
        "**Explicación**: Dividimos los datos para evitar sobreajuste y evaluar el modelo imparcialmente."
      ]
    },
    {
      "cell_type": "code",
      "execution_count": null,
      "metadata": {
        "id": "Dsp0E81vGlcU"
      },
      "outputs": [],
      "source": [
        "# Dividimos en 80% train y 20% test.\n",
        "# test_size=0.2: 20% para test.\n",
        "# random_state=42: Semilla fija para reproducibilidad.\n",
        "# Imprimimos formas para verificar.\n",
        "\n",
        "X_train, X_test, y_train, y_test = train_test_split(X, y, test_size=0.2, random_state=42)\n",
        "print(\"Forma X_train:\", X_train.shape)  # (353, 1)\n",
        "print(\"Forma X_test:\", X_test.shape)   # (89, 1)\n",
        "print(\"Forma y_train:\", y_train.shape)  # (353,)\n",
        "print(\"Forma y_test:\", y_test.shape)    # (89,)"
      ]
    },
    {
      "cell_type": "markdown",
      "metadata": {
        "id": "thk2Qjt8GlcU"
      },
      "source": [
        "### Paso 5: Crear y Entrenar el Modelo\n",
        "**Explicación**: Instanciamos el modelo y lo ajustamos a los datos de entrenamiento."
      ]
    },
    {
      "cell_type": "code",
      "execution_count": null,
      "metadata": {
        "id": "5gh4ALnjGlcU"
      },
      "outputs": [],
      "source": [
        "# Creamos una instancia del modelo LinearRegression.\n",
        "# Entrenamos: Calcula beta0 y beta1 minimizando errores (OLS).\n",
        "# Imprimimos los coeficientes aprendidos.\n",
        "# Interpretación: Si β1 ≈ 500, cada unidad de BMI aumenta la progresión ~500 unidades.\n",
        "\n",
        "model = LinearRegression()\n",
        "model.fit(X_train, y_train)\n",
        "print(\"Intercepto (β0):\", model.intercept_)\n",
        "print(\"Pendiente (β1):\", model.coef_[0])"
      ]
    },
    {
      "cell_type": "markdown",
      "metadata": {
        "id": "1xlNkVjTGlcU"
      },
      "source": [
        "### Paso 6: Hacer Predicciones\n",
        "**Explicación**: Usamos el modelo entrenado para predecir en el conjunto de test."
      ]
    },
    {
      "cell_type": "code",
      "execution_count": null,
      "metadata": {
        "id": "2mLIrjB2GlcV"
      },
      "outputs": [],
      "source": [
        "# Predecimos y para X_test.\n",
        "# Mostramos las primeras 5 predicciones y valores reales para comparar.\n",
        "\n",
        "y_pred = model.predict(X_test)\n",
        "print(\"Primeras 5 predicciones:\", y_pred[:5].round(2))\n",
        "print(\"Primeros 5 valores reales:\", y_test[:5])"
      ]
    },
    {
      "cell_type": "markdown",
      "metadata": {
        "id": "9F8oI7O0GlcV"
      },
      "source": [
        "### Paso 7: Evaluar el Modelo\n",
        "**Explicación**: Calculamos R² para medir qué tan bien el modelo explica los datos."
      ]
    },
    {
      "cell_type": "code",
      "execution_count": null,
      "metadata": {
        "id": "l8Ye01JuGlcV"
      },
      "outputs": [],
      "source": [
        "# Calculamos R² (0-1; 1 es perfecto).\n",
        "# Interpretación: R²=0.18 significa que el 18% de la variabilidad en y se explica por x.\n",
        "# Es bajo, pero esperado para una sola feature.\n",
        "\n",
        "r2 = r2_score(y_test, y_pred)\n",
        "print(\"Coeficiente de Determinación (R²):\", round(r2, 4))"
      ]
    },
    {
      "cell_type": "markdown",
      "metadata": {
        "id": "vh6xaCXtGlcV"
      },
      "source": [
        "### Paso 8: Visualizar el Modelo Entrenado\n",
        "**Explicación**: Graficamos la línea de regresión sobre los puntos de test."
      ]
    },
    {
      "cell_type": "code",
      "execution_count": null,
      "metadata": {
        "id": "z-Y2kGO9GlcV"
      },
      "outputs": [],
      "source": [
        "# Graficamos puntos reales (azul) y la línea predicha (rojo).\n",
        "# X_test ordenado implícitamente por plot.\n",
        "\n",
        "plt.figure(figsize=(8,6))\n",
        "plt.scatter(X_test, y_test, color=\"blue\", label=\"Datos Reales\")\n",
        "plt.plot(X_test, y_pred, color=\"red\", label=\"Línea de Regresión\")\n",
        "plt.xlabel(\"BMI\")\n",
        "plt.ylabel(\"Progresión de Diabetes\")\n",
        "plt.title(\"Regresión Lineal Simple: Ajuste del Modelo\")\n",
        "plt.legend()\n",
        "plt.show()"
      ]
    },
    {
      "cell_type": "markdown",
      "metadata": {
        "id": "qAAbLu52GlcV"
      },
      "source": [
        "## Conclusión y Limitaciones\n",
        "¡Felicidades! Has implementado tu primera regresión lineal. Recuerda:\n",
        "- **Fortalezas**: Simple, interpretable.\n",
        "- **Limitaciones**: Asume linealidad; con más features, usa regresión múltiple.\n",
        "- **Próximos Pasos**: Prueba con múltiples features o datasets como Iris para clasificación.\n",
        "\n",
        "## Ejercicios para Practicar\n",
        "1. Cambia la feature a otra (e.g., índice 0: age). ¿Mejora R²?\n",
        "2. Aumenta test_size a 0.3. ¿Cambia el split?\n",
        "3. Genera datos sintéticos con `sklearn.datasets.make_regression` y repite.\n",
        "\n",
        "**Para Descargar**: En Colab, ve a File-dot- File > Download > .ipynb. Copia este contenido a un nuevo notebook para usarlo.\n",
        "\n",
        "¡Gracias por aprender conmigo! Si tienes dudas, comenta abajo. 😊"
      ]
    }
  ],
  "metadata": {
    "kernelspec": {
      "display_name": "Python 3",
      "language": "python",
      "name": "python3"
    },
    "language_info": {
      "codemirror_mode": {
        "name": "ipython",
        "version": 3
      },
      "file_extension": ".py",
      "mimetype": "text/x-python",
      "name": "python",
      "nbconvert_exporter": "python",
      "pygments_lexer": "ipython3",
      "version": "3.8.5"
    },
    "colab": {
      "provenance": []
    }
  },
  "nbformat": 4,
  "nbformat_minor": 0
}